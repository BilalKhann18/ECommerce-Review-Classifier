{
 "cells": [
  {
   "cell_type": "markdown",
   "metadata": {
    "id": "7ZxTNe-drSUj"
   },
   "source": [
    "# Step.5 Modelling and Evaluation:"
   ]
  },
  {
   "cell_type": "markdown",
   "metadata": {
    "id": "D89OuPFRugk3"
   },
   "source": [
    "**Import Necessary libraries** "
   ]
  },
  {
   "cell_type": "code",
   "execution_count": 3,
   "metadata": {
    "id": "YwrCBB75tF9u"
   },
   "outputs": [],
   "source": [
    "# Gives time-related functions for calculating execution time\n",
    "import time\n",
    "\n",
    "import pandas as pd\n",
    "import numpy as np\n",
    "\n",
    "# To divide the dataset into training and testing subsets\n",
    "from sklearn.model_selection import train_test_split\n",
    "\n",
    "# Util to find to accurarcy score, classification report and confusion matrix\n",
    "from sklearn.metrics import accuracy_score, classification_report, confusion_matrix\n",
    "from sklearn.ensemble import RandomForestClassifier, GradientBoostingClassifier\n",
    "from xgboost import XGBClassifier\n",
    "\n",
    "# To balance data by creating synthetic samples for the minority class.\n",
    "from imblearn.over_sampling import SMOTE\n",
    "from sklearn.utils.class_weight import compute_class_weight\n",
    "from sklearn.metrics import precision_recall_fscore_support\n",
    "\n",
    "# Visualizes the confusion matrix as a plot.\n",
    "from sklearn.metrics import ConfusionMatrixDisplay as CM\n",
    "\n",
    "# Standardized features by scaling them to have mean=0 and std=1\n",
    "from sklearn.preprocessing import StandardScaler"
   ]
  },
  {
   "cell_type": "markdown",
   "metadata": {
    "id": "VwgNxM8YPfkH"
   },
   "source": [
    "## 5.1 Data Understanding:\n",
    "Load the feature engineered data and check for quality and integrity."
   ]
  },
  {
   "cell_type": "code",
   "execution_count": 5,
   "metadata": {
    "id": "6Upl3YtCutWl"
   },
   "outputs": [
    {
     "name": "stdout",
     "output_type": "stream",
     "text": [
      "review_score               0\n",
      "on_time_delivery           0\n",
      "total_waiting_time         0\n",
      "delivery_accuracy          0\n",
      "logistics_time             0\n",
      "is_review                  0\n",
      "late_early_arrival_time    0\n",
      "same_state                 0\n",
      "distance_km                0\n",
      "total_orders_per_seller    0\n",
      "freight_value              0\n",
      "payment_value              0\n",
      "dtype: int64\n"
     ]
    }
   ],
   "source": [
    "# Read the dataset\n",
    "df = pd.read_csv('Feature.csv')\n",
    "\n",
    "# Store all the columns on which processing needs to be done in a variable\n",
    "columns_to_keep = ['review_score','on_time_delivery',\n",
    "                   'total_waiting_time',\n",
    "                   'delivery_accuracy',\n",
    "                   'logistics_time',\n",
    "                   'is_review',\n",
    "                   'late_early_arrival_time',\n",
    "                   'same_state',\n",
    "                   'distance_km',\n",
    "                   'total_orders_per_seller',\n",
    "                   'freight_value',\n",
    "                   'payment_value' ]\n",
    "\n",
    "# Keep only those columns defined above in the dataset\n",
    "df = df[columns_to_keep]\n",
    "\n",
    "# Convert review_score to binary (1 if score >= 4, else 0)\n",
    "df['review_score'] = df['review_score'].apply(lambda x: 1 if x >= 4 else 0)\n",
    "\n",
    "# Check for missing values\n",
    "print(df.isnull().sum())"
   ]
  },
  {
   "cell_type": "markdown",
   "metadata": {
    "id": "iMZNl4oUT0a-"
   },
   "source": [
    "## 5.2 Data Modelling:"
   ]
  },
  {
   "cell_type": "markdown",
   "metadata": {},
   "source": [
    "### 5.2.1 Defining Input (x) and Output (y) Variables for Model Training:  \n",
    "Set the data for x and y values, the x values are the ones on basis of which the model understands and predict y values."
   ]
  },
  {
   "cell_type": "code",
   "execution_count": 8,
   "metadata": {
    "id": "Hi2QmxwBT05Z"
   },
   "outputs": [
    {
     "name": "stdout",
     "output_type": "stream",
     "text": [
      "(65451, 11)\n",
      "(16363, 11)\n",
      "(65451,)\n",
      "(16363,)\n"
     ]
    }
   ],
   "source": [
    "# Set target and features\n",
    "y_value = df['review_score']\n",
    "\n",
    "# Change to array (list)\n",
    "y_values = np.ravel(y_value)\n",
    "\n",
    "# Drop the target column\n",
    "X_values = df.drop('review_score', axis=1)\n",
    "\n",
    "# Split data into training and testing datasets which is 80% and 20%\n",
    "X_train, X_test, Y_train, Y_test = train_test_split(X_values, y_value, test_size=0.2, random_state=4567, stratify=y_value)\n",
    "\n",
    "# Print the shapes to verify the data splitting\n",
    "print(X_train.shape)\n",
    "print(X_test.shape)\n",
    "print(Y_train.shape)\n",
    "print(Y_test.shape)"
   ]
  },
  {
   "cell_type": "markdown",
   "metadata": {
    "id": "9AtBJkIlUzsy"
   },
   "source": [
    "### 5.2.2 Standardise Features"
   ]
  },
  {
   "cell_type": "code",
   "execution_count": 10,
   "metadata": {
    "id": "LwQ2Ak0XUz_E"
   },
   "outputs": [],
   "source": [
    "# Standardize the features for optimization of the model\n",
    "\n",
    "# Create a StandardScaler instance to standardize features for optimal performance of the model\n",
    "scaler = StandardScaler()\n",
    "\n",
    "# Fit and transform the training set\n",
    "X_train_scaled = scaler.fit_transform(X_train)\n",
    "\n",
    "# Transform the test set (using the training scaler)\n",
    "X_test_scaled = scaler.transform(X_test)"
   ]
  },
  {
   "cell_type": "markdown",
   "metadata": {
    "id": "70sJ1NiNVwWx"
   },
   "source": [
    "### 5.2.3 Imbalanced data:"
   ]
  },
  {
   "cell_type": "markdown",
   "metadata": {},
   "source": [
    "Balancing of the dataset using SMOTE(Synthetic Minority Ovesampling Technique)"
   ]
  },
  {
   "cell_type": "code",
   "execution_count": 13,
   "metadata": {
    "id": "fIY0QpEXVwob"
   },
   "outputs": [
    {
     "name": "stdout",
     "output_type": "stream",
     "text": [
      "review_score\n",
      "1    51345\n",
      "0    51345\n",
      "Name: count, dtype: int64\n"
     ]
    }
   ],
   "source": [
    "# Oversampling Using SMOTE (on scaled data)\n",
    "smote = SMOTE(random_state=42, sampling_strategy=1.0)\n",
    "\n",
    "# Apply SMOTE on scaled data\n",
    "X_train_resampled, Y_train_resampled = smote.fit_resample(X_train_scaled, Y_train)\n",
    "\n",
    "print(pd.Series(Y_train_resampled).value_counts())"
   ]
  },
  {
   "cell_type": "markdown",
   "metadata": {
    "id": "Zge6FN3AXGtm"
   },
   "source": [
    "**1. Using SMOTE**"
   ]
  },
  {
   "cell_type": "code",
   "execution_count": 15,
   "metadata": {
    "id": "qej8YOGTWwNx"
   },
   "outputs": [],
   "source": [
    "# Define model with SMOTE\n",
    "\n",
    "# Initialize a RandomForestClassifier with a fixed random state for reproducibility\n",
    "# This classifier will be used on the dataset after applying SMOTE for oversampling\n",
    "RF_algo_smote = RandomForestClassifier(random_state=42)\n",
    "\n",
    "# Initialize a GradientBoostingClassifier with a fixed random state for reproducibility\n",
    "# This classifier will be used on the dataset after applying SMOTE for oversampling\n",
    "GBDT_algo_smote = GradientBoostingClassifier(random_state=42)\n",
    "\n",
    "# Initialize a extremeGradientBoostingClassifier with a fixed random state for reproducibility\n",
    "# This classifier will be used on the dataset after applying SMOTE for oversampling\n",
    "XGB_algo_smote = XGBClassifier(random_state=42)"
   ]
  },
  {
   "cell_type": "markdown",
   "metadata": {
    "id": "iJLzbekBX9MN"
   },
   "source": [
    "**2. Using Class Weight**"
   ]
  },
  {
   "cell_type": "code",
   "execution_count": 17,
   "metadata": {
    "id": "SJujNJRxX9Xk"
   },
   "outputs": [],
   "source": [
    "# Define model with Class Weight (balancing using class weight)\n",
    "RF_algo_class_weight = RandomForestClassifier(class_weight='balanced', random_state=42)\n",
    "\n",
    "# No direct class weights, SMOTE helps balance\n",
    "GBDT_algo_class_weight = GradientBoostingClassifier()\n",
    "\n",
    "# Initialize an XGBClassifier with a balanced class weights using parameter `scale_pos_weight`\n",
    "# - `scale_pos_weight` is set to the ratio of the number of negative samples to positive samples in the training data\n",
    "# This helps handle imbalanced datasets by giving more importance to the minority class\n",
    "# - `random_state` ensures reproducibility of results\n",
    "# - `eval_metric=\"logloss\"` specifies the evaluation metric for the model, where log loss measures classification performance\n",
    "XGB_algo_class_weight = XGBClassifier(\n",
    "    scale_pos_weight=len(Y_train[Y_train == 0]) / len(Y_train[Y_train == 1]),\n",
    "    random_state=42,\n",
    "    eval_metric=\"logloss\"\n",
    ")"
   ]
  },
  {
   "cell_type": "markdown",
   "metadata": {
    "id": "izislBdfYiTN"
   },
   "source": [
    "## 5.3 Training of the models:"
   ]
  },
  {
   "cell_type": "markdown",
   "metadata": {
    "id": "3_gUghjgamRK"
   },
   "source": [
    "### 5.3.1 Using SMOTE"
   ]
  },
  {
   "cell_type": "markdown",
   "metadata": {
    "id": "O8DCGbXmZMux"
   },
   "source": [
    "**a. Random Forest**"
   ]
  },
  {
   "cell_type": "code",
   "execution_count": 21,
   "metadata": {
    "id": "UswLC9huYifs"
   },
   "outputs": [
    {
     "name": "stdout",
     "output_type": "stream",
     "text": [
      "Training Time (SMOTE - Random Forest): 73.56 seconds\n"
     ]
    }
   ],
   "source": [
    "# Training using scaled data for the SMOTE models\n",
    "\n",
    "# Start time for SMOTE models to check for the performance\n",
    "start_time = time.time()\n",
    "\n",
    "# Train on scaled and resampled data\n",
    "RF_model_smote = RF_algo_smote.fit(X_train_resampled, Y_train_resampled)\n",
    "end_time = time.time()\n",
    "training_time = end_time - start_time\n",
    "print(f\"Training Time (SMOTE - Random Forest): {training_time:.2f} seconds\")"
   ]
  },
  {
   "cell_type": "markdown",
   "metadata": {
    "id": "cHQxDuRZZ74p"
   },
   "source": [
    "**b. Gradient Boosted**"
   ]
  },
  {
   "cell_type": "code",
   "execution_count": 23,
   "metadata": {
    "colab": {
     "base_uri": "https://localhost:8080/",
     "height": 216
    },
    "id": "GjOho4r8Z8F0",
    "outputId": "94f86ada-0893-4bdb-fe91-cf86b844b392"
   },
   "outputs": [
    {
     "name": "stdout",
     "output_type": "stream",
     "text": [
      "Training Time (SMOTE - GBDT): 60.22 seconds\n"
     ]
    }
   ],
   "source": [
    "# Start time for GBDT SMOTE\n",
    "start_time = time.time()\n",
    "\n",
    "# Train on scaled and resampled data\n",
    "GBDT_model_smote = GBDT_algo_smote.fit(X_train_resampled, Y_train_resampled)\n",
    "\n",
    "# End time for GBDT SMOTE\n",
    "end_time = time.time()\n",
    "training_time = end_time - start_time\n",
    "print(f\"Training Time (SMOTE - GBDT): {training_time:.2f} seconds\")"
   ]
  },
  {
   "cell_type": "markdown",
   "metadata": {
    "id": "lzd58l3Nabbj"
   },
   "source": [
    "**c. exteme Gradient Boosted**"
   ]
  },
  {
   "cell_type": "code",
   "execution_count": 25,
   "metadata": {
    "id": "Ocf5jYxyab0W"
   },
   "outputs": [
    {
     "name": "stdout",
     "output_type": "stream",
     "text": [
      "Training Time (SMOTE - XGB): 0.54 seconds\n"
     ]
    }
   ],
   "source": [
    "# Start time for XGB SMOTE\n",
    "start_time = time.time()\n",
    "\n",
    "# Train on SMOTE resampled data\n",
    "XGB_model_smote = XGB_algo_smote.fit(X_train_resampled, Y_train_resampled)\n",
    "\n",
    "# End time for XGB SMOTE\n",
    "end_time = time.time()\n",
    "training_time = end_time - start_time\n",
    "print(f\"Training Time (SMOTE - XGB): {training_time:.2f} seconds\")"
   ]
  },
  {
   "cell_type": "markdown",
   "metadata": {
    "id": "WqULHckkbbhi"
   },
   "source": [
    "### 5.3.2  Using Class Weight"
   ]
  },
  {
   "cell_type": "markdown",
   "metadata": {
    "id": "wAwBaWIrbj8R"
   },
   "source": [
    "**a. Random Forest**"
   ]
  },
  {
   "cell_type": "code",
   "execution_count": 28,
   "metadata": {
    "id": "AVGSIZzebbyh"
   },
   "outputs": [
    {
     "name": "stdout",
     "output_type": "stream",
     "text": [
      "Training Time (Class Weight - Random Forest): 33.20 seconds\n"
     ]
    }
   ],
   "source": [
    "# Start time for Random Forest using Class Weight\n",
    "start_time = time.time()\n",
    "\n",
    "# Train using scaled data\n",
    "RF_model_class_weight = RF_algo_class_weight.fit(X_train_scaled, Y_train)\n",
    "end_time = time.time()\n",
    "training_time = end_time - start_time\n",
    "print(f\"Training Time (Class Weight - Random Forest): {training_time:.2f} seconds\")"
   ]
  },
  {
   "cell_type": "markdown",
   "metadata": {
    "id": "kxqoHI1Nby_V"
   },
   "source": [
    "**b. exteme Gradient Boosted**"
   ]
  },
  {
   "cell_type": "code",
   "execution_count": 30,
   "metadata": {
    "id": "X5ZlPKPmb45w"
   },
   "outputs": [
    {
     "name": "stdout",
     "output_type": "stream",
     "text": [
      "Training Time (Class Weight - XGB): 0.46 seconds\n"
     ]
    }
   ],
   "source": [
    "# Start time for XGB Class Weight\n",
    "start_time = time.time()\n",
    "\n",
    "# Train using scaled data\n",
    "XGB_model_class_weight = XGB_algo_class_weight.fit(X_train_scaled, Y_train)\n",
    "end_time = time.time()\n",
    "training_time = end_time - start_time\n",
    "print(f\"Training Time (Class Weight - XGB): {training_time:.2f} seconds\")"
   ]
  },
  {
   "cell_type": "markdown",
   "metadata": {
    "id": "CNyA-a6bc_mn"
   },
   "source": [
    "## 5.4 Performance of the models:"
   ]
  },
  {
   "cell_type": "code",
   "execution_count": 32,
   "metadata": {
    "id": "CcvV-7MCdUQ3"
   },
   "outputs": [],
   "source": [
    "# Store models and names for iteration\n",
    "models_smote = [RF_model_smote, GBDT_model_smote, XGB_model_smote]\n",
    "models_class_weight = [RF_model_class_weight, XGB_model_class_weight]\n",
    "names = ['Random Forest', 'GBDT', 'XGBDT']"
   ]
  },
  {
   "cell_type": "markdown",
   "metadata": {
    "id": "j7eVTgQidrLZ"
   },
   "source": [
    "**Confusion matrices to visually see the performance of the the different models.**"
   ]
  },
  {
   "cell_type": "code",
   "execution_count": 34,
   "metadata": {
    "id": "B8VESwFGdnxO"
   },
   "outputs": [
    {
     "name": "stdout",
     "output_type": "stream",
     "text": [
      "Random Forest (SMOTE) Confusion Matrix\n",
      "Random Forest (SMOTE) Classification Report\n",
      "              precision    recall  f1-score   support\n",
      "\n",
      "           0       0.54      0.35      0.43      3526\n",
      "           1       0.84      0.92      0.88     12837\n",
      "\n",
      "    accuracy                           0.80     16363\n",
      "   macro avg       0.69      0.64      0.65     16363\n",
      "weighted avg       0.77      0.80      0.78     16363\n",
      "\n",
      "GBDT (SMOTE) Confusion Matrix\n",
      "GBDT (SMOTE) Classification Report\n",
      "              precision    recall  f1-score   support\n",
      "\n",
      "           0       0.45      0.49      0.47      3526\n",
      "           1       0.86      0.83      0.84     12837\n",
      "\n",
      "    accuracy                           0.76     16363\n",
      "   macro avg       0.65      0.66      0.66     16363\n",
      "weighted avg       0.77      0.76      0.76     16363\n",
      "\n",
      "XGBDT (SMOTE) Confusion Matrix\n",
      "XGBDT (SMOTE) Classification Report\n",
      "              precision    recall  f1-score   support\n",
      "\n",
      "           0       0.60      0.31      0.41      3526\n",
      "           1       0.83      0.94      0.88     12837\n",
      "\n",
      "    accuracy                           0.81     16363\n",
      "   macro avg       0.72      0.63      0.65     16363\n",
      "weighted avg       0.78      0.81      0.78     16363\n",
      "\n"
     ]
    },
    {
     "data": {
      "image/png": "[encoded data removed]",
      "text/plain": [
       "<Figure size 640x480 with 2 Axes>"
      ]
     },
     "metadata": {},
     "output_type": "display_data"
    },
    {
     "data": {
      "image/png": "[encoded data removed]",
      "text/plain": [
       "<Figure size 640x480 with 2 Axes>"
      ]
     },
     "metadata": {},
     "output_type": "display_data"
    },
    {
     "data": {
      "image/png": "[encoded data removed]",
      "text/plain": [
       "<Figure size 640x480 with 2 Axes>"
      ]
     },
     "metadata": {},
     "output_type": "display_data"
    }
   ],
   "source": [
    "# Confusion Matrices and Classification Reports (using scaled features)\n",
    "\n",
    "# Iterate through models (for SMOTE)\n",
    "for model, name in zip(models_smote, names):\n",
    "    print(f\"{name} (SMOTE) Confusion Matrix\")\n",
    "\n",
    "    # Use scaled test data for prediction\n",
    "    predict = model.predict(X_test_scaled)\n",
    "    CM.from_predictions(Y_test, predict)\n",
    "    print(f\"{name} (SMOTE) Classification Report\")\n",
    "    print(classification_report(Y_test, predict))"
   ]
  },
  {
   "cell_type": "code",
   "execution_count": 35,
   "metadata": {
    "id": "MyB8ACf-eUww"
   },
   "outputs": [
    {
     "name": "stdout",
     "output_type": "stream",
     "text": [
      "Random Forest (Class Weight) Confusion Matrix\n",
      "Random Forest (Class Weight) Classification Report\n",
      "              precision    recall  f1-score   support\n",
      "\n",
      "           0       0.72      0.25      0.37      3526\n",
      "           1       0.82      0.97      0.89     12837\n",
      "\n",
      "    accuracy                           0.82     16363\n",
      "   macro avg       0.77      0.61      0.63     16363\n",
      "weighted avg       0.80      0.82      0.78     16363\n",
      "\n",
      "GBDT (Class Weight) Confusion Matrix\n",
      "GBDT (Class Weight) Classification Report\n",
      "              precision    recall  f1-score   support\n",
      "\n",
      "           0       0.40      0.60      0.48      3526\n",
      "           1       0.87      0.76      0.81     12837\n",
      "\n",
      "    accuracy                           0.72     16363\n",
      "   macro avg       0.64      0.68      0.65     16363\n",
      "weighted avg       0.77      0.72      0.74     16363\n",
      "\n"
     ]
    },
    {
     "data": {
      "image/png": "[encoded data removed]",
      "text/plain": [
       "<Figure size 640x480 with 2 Axes>"
      ]
     },
     "metadata": {},
     "output_type": "display_data"
    },
    {
     "data": {
      "image/png": "[encoded data removed]",
      "text/plain": [
       "<Figure size 640x480 with 2 Axes>"
      ]
     },
     "metadata": {},
     "output_type": "display_data"
    }
   ],
   "source": [
    "# Confusion Matrices and Classification Reports (using scaled features)\n",
    "\n",
    "# Iterate through models (for Class Weight)\n",
    "for model, name in zip(models_class_weight, names):\n",
    "    print(f\"{name} (Class Weight) Confusion Matrix\")\n",
    "\n",
    "    # Use scaled test data for prediction\n",
    "    predict = model.predict(X_test_scaled)\n",
    "    CM.from_predictions(Y_test, predict)\n",
    "    print(f\"{name} (Class Weight) Classification Report\")\n",
    "    print(classification_report(Y_test, predict))"
   ]
  },
  {
   "cell_type": "markdown",
   "metadata": {
    "id": "evOce3x9erO4"
   },
   "source": [
    "## 5.5 Hyperparameter Tuning:\n",
    "Hyperparameter tuning for Random Forest (Class Weight) using RandomizedSearchCV"
   ]
  },
  {
   "cell_type": "code",
   "execution_count": 37,
   "metadata": {
    "id": "dKhP1GYZgqZ4"
   },
   "outputs": [],
   "source": [
    "from sklearn.model_selection import RandomizedSearchCV\n",
    "from scipy.stats import uniform, randint\n",
    "import warnings\n",
    "\n",
    "# Suppress warnings for cleaner output\n",
    "warnings.filterwarnings(\"ignore\")"
   ]
  },
  {
   "cell_type": "code",
   "execution_count": 38,
   "metadata": {
    "id": "HhdbHvrShyUb"
   },
   "outputs": [],
   "source": [
    "# Define hyperparameters for tuning Random Forest\n",
    "RF_tuned_parameters = {\n",
    "    # Number of trees in the forest\n",
    "    'n_estimators': randint(50, 300),\n",
    "    # Maximum depth of the tree\n",
    "    'max_depth': randint(2, 20),\n",
    "    # Minimum samples required to split an internal node\n",
    "    'min_samples_split': randint(2, 10),\n",
    "    # Minimum samples required to be at a leaf node\n",
    "    'min_samples_leaf': randint(1, 5),\n",
    "     # Number of features considered at each split\n",
    "    'max_features': ['sqrt', 'log2', None],\n",
    "    # Whether bootstrap samples are used when building trees\n",
    "    'bootstrap': [True, False]\n",
    "}\n",
    "\n",
    "# Initialize Random Forest model (with class weight)\n",
    "RF_algo_class_weight = RandomForestClassifier(class_weight='balanced', random_state=42)\n",
    "\n",
    "# Set up the RandomizedSearchCV to find the best hyperparameters\n",
    "clf_rf_class_weight = RandomizedSearchCV(\n",
    "    RF_algo_class_weight,\n",
    "    RF_tuned_parameters,\n",
    "    cv=3,  # 3-fold cross-validation\n",
    "    verbose=1,  # Print progress during the search\n",
    "    scoring='f1_macro',  # Optimize for F1-Score\n",
    "    n_iter=10,  # Number of parameter settings sampled\n",
    "    n_jobs=-1,  # Use all cores for faster computation\n",
    "    random_state=2015\n",
    ")\n"
   ]
  },
  {
   "cell_type": "code",
   "execution_count": 39,
   "metadata": {
    "id": "joNtscwhiF3b"
   },
   "outputs": [
    {
     "name": "stdout",
     "output_type": "stream",
     "text": [
      "Fitting 3 folds for each of 10 candidates, totalling 30 fits\n"
     ]
    }
   ],
   "source": [
    "# Perform the RandomizedSearchCV fitting using scaled training data\n",
    "start_time = time.time()\n",
    "clf_rf_class_weight.fit(X_train_scaled, Y_train)\n",
    "end_time = time.time()"
   ]
  },
  {
   "cell_type": "code",
   "execution_count": 40,
   "metadata": {
    "id": "FMTYShQPiI2t"
   },
   "outputs": [
    {
     "name": "stdout",
     "output_type": "stream",
     "text": [
      "Best Hyperparameters for Random Forest (Class Weight): {'bootstrap': False, 'max_depth': 4, 'max_features': 'log2', 'min_samples_leaf': 3, 'min_samples_split': 8, 'n_estimators': 104}\n",
      "Hyperparameter Tuning Time: 326.95 seconds\n"
     ]
    }
   ],
   "source": [
    "# Display the best parameters found\n",
    "print(f\"Best Hyperparameters for Random Forest (Class Weight): {clf_rf_class_weight.best_params_}\")\n",
    "print(f\"Hyperparameter Tuning Time: {end_time - start_time:.2f} seconds\")\n"
   ]
  },
  {
   "cell_type": "markdown",
   "metadata": {
    "id": "AgHgDbHtiPw6"
   },
   "source": [
    "## 5.6 Train the model:\n",
    "Retrain the model with best parameters found"
   ]
  },
  {
   "cell_type": "code",
   "execution_count": 42,
   "metadata": {
    "id": "lQqOPKvSiPYD"
   },
   "outputs": [
    {
     "data": {
      "text/html": [
       "<style>#sk-container-id-1 {color: black;background-color: white;}#sk-container-id-1 pre{padding: 0;}#sk-container-id-1 div.sk-toggleable {background-color: white;}#sk-container-id-1 label.sk-toggleable__label {cursor: pointer;display: block;width: 100%;margin-bottom: 0;padding: 0.3em;box-sizing: border-box;text-align: center;}#sk-container-id-1 label.sk-toggleable__label-arrow:before {content: \"▸\";float: left;margin-right: 0.25em;color: #696969;}#sk-container-id-1 label.sk-toggleable__label-arrow:hover:before {color: black;}#sk-container-id-1 div.sk-estimator:hover label.sk-toggleable__label-arrow:before {color: black;}#sk-container-id-1 div.sk-toggleable__content {max-height: 0;max-width: 0;overflow: hidden;text-align: left;background-color: #f0f8ff;}#sk-container-id-1 div.sk-toggleable__content pre {margin: 0.2em;color: black;border-radius: 0.25em;background-color: #f0f8ff;}#sk-container-id-1 input.sk-toggleable__control:checked~div.sk-toggleable__content {max-height: 200px;max-width: 100%;overflow: auto;}#sk-container-id-1 input.sk-toggleable__control:checked~label.sk-toggleable__label-arrow:before {content: \"▾\";}#sk-container-id-1 div.sk-estimator input.sk-toggleable__control:checked~label.sk-toggleable__label {background-color: #d4ebff;}#sk-container-id-1 div.sk-label input.sk-toggleable__control:checked~label.sk-toggleable__label {background-color: #d4ebff;}#sk-container-id-1 input.sk-hidden--visually {border: 0;clip: rect(1px 1px 1px 1px);clip: rect(1px, 1px, 1px, 1px);height: 1px;margin: -1px;overflow: hidden;padding: 0;position: absolute;width: 1px;}#sk-container-id-1 div.sk-estimator {font-family: monospace;background-color: #f0f8ff;border: 1px dotted black;border-radius: 0.25em;box-sizing: border-box;margin-bottom: 0.5em;}#sk-container-id-1 div.sk-estimator:hover {background-color: #d4ebff;}#sk-container-id-1 div.sk-parallel-item::after {content: \"\";width: 100%;border-bottom: 1px solid gray;flex-grow: 1;}#sk-container-id-1 div.sk-label:hover label.sk-toggleable__label {background-color: #d4ebff;}#sk-container-id-1 div.sk-serial::before {content: \"\";position: absolute;border-left: 1px solid gray;box-sizing: border-box;top: 0;bottom: 0;left: 50%;z-index: 0;}#sk-container-id-1 div.sk-serial {display: flex;flex-direction: column;align-items: center;background-color: white;padding-right: 0.2em;padding-left: 0.2em;position: relative;}#sk-container-id-1 div.sk-item {position: relative;z-index: 1;}#sk-container-id-1 div.sk-parallel {display: flex;align-items: stretch;justify-content: center;background-color: white;position: relative;}#sk-container-id-1 div.sk-item::before, #sk-container-id-1 div.sk-parallel-item::before {content: \"\";position: absolute;border-left: 1px solid gray;box-sizing: border-box;top: 0;bottom: 0;left: 50%;z-index: -1;}#sk-container-id-1 div.sk-parallel-item {display: flex;flex-direction: column;z-index: 1;position: relative;background-color: white;}#sk-container-id-1 div.sk-parallel-item:first-child::after {align-self: flex-end;width: 50%;}#sk-container-id-1 div.sk-parallel-item:last-child::after {align-self: flex-start;width: 50%;}#sk-container-id-1 div.sk-parallel-item:only-child::after {width: 0;}#sk-container-id-1 div.sk-dashed-wrapped {border: 1px dashed gray;margin: 0 0.4em 0.5em 0.4em;box-sizing: border-box;padding-bottom: 0.4em;background-color: white;}#sk-container-id-1 div.sk-label label {font-family: monospace;font-weight: bold;display: inline-block;line-height: 1.2em;}#sk-container-id-1 div.sk-label-container {text-align: center;}#sk-container-id-1 div.sk-container {/* jupyter's `normalize.less` sets `[hidden] { display: none; }` but bootstrap.min.css set `[hidden] { display: none !important; }` so we also need the `!important` here to be able to override the default hidden behavior on the sphinx rendered scikit-learn.org. See: https://github.com/scikit-learn/scikit-learn/issues/21755 */display: inline-block !important;position: relative;}#sk-container-id-1 div.sk-text-repr-fallback {display: none;}</style><div id=\"sk-container-id-1\" class=\"sk-top-container\"><div class=\"sk-text-repr-fallback\"><pre>RandomForestClassifier(bootstrap=False, class_weight=&#x27;balanced&#x27;, max_depth=4,\n",
       "                       max_features=&#x27;log2&#x27;, min_samples_leaf=3,\n",
       "                       min_samples_split=8, n_estimators=104, random_state=42)</pre><b>In a Jupyter environment, please rerun this cell to show the HTML representation or trust the notebook. <br />On GitHub, the HTML representation is unable to render, please try loading this page with nbviewer.org.</b></div><div class=\"sk-container\" hidden><div class=\"sk-item\"><div class=\"sk-estimator sk-toggleable\"><input class=\"sk-toggleable__control sk-hidden--visually\" id=\"sk-estimator-id-1\" type=\"checkbox\" checked><label for=\"sk-estimator-id-1\" class=\"sk-toggleable__label sk-toggleable__label-arrow\">RandomForestClassifier</label><div class=\"sk-toggleable__content\"><pre>RandomForestClassifier(bootstrap=False, class_weight=&#x27;balanced&#x27;, max_depth=4,\n",
       "                       max_features=&#x27;log2&#x27;, min_samples_leaf=3,\n",
       "                       min_samples_split=8, n_estimators=104, random_state=42)</pre></div></div></div></div></div>"
      ],
      "text/plain": [
       "RandomForestClassifier(bootstrap=False, class_weight='balanced', max_depth=4,\n",
       "                       max_features='log2', min_samples_leaf=3,\n",
       "                       min_samples_split=8, n_estimators=104, random_state=42)"
      ]
     },
     "execution_count": 42,
     "metadata": {},
     "output_type": "execute_result"
    }
   ],
   "source": [
    "# Train Random Forest model with the best parameters found\n",
    "\n",
    "# Get the best model with tuned hyperparameters\n",
    "best_rf_class_weight = clf_rf_class_weight.best_estimator_\n",
    "\n",
    "# Train the final model on the entire training set (using best hyperparameters)\n",
    "best_rf_class_weight.fit(X_train_scaled, Y_train)"
   ]
  },
  {
   "cell_type": "markdown",
   "metadata": {
    "id": "AbUDZub_ioqy"
   },
   "source": [
    "## 5.7 Evaluation of the model:"
   ]
  },
  {
   "cell_type": "code",
   "execution_count": 44,
   "metadata": {
    "id": "JXSBmXGFisBx"
   },
   "outputs": [],
   "source": [
    "# Evaluate the tuned Random Forest model on the test set\n",
    "\n",
    "# Predict on the test set\n",
    "# Use scaled test data for prediction\n",
    "predict_rf_class_weight = best_rf_class_weight.predict(X_test_scaled)"
   ]
  },
  {
   "cell_type": "code",
   "execution_count": 45,
   "metadata": {
    "id": "DN_9crBzjVd9"
   },
   "outputs": [
    {
     "name": "stdout",
     "output_type": "stream",
     "text": [
      "Random Forest (Class Weight) Confusion Matrix\n",
      "Random Forest (Class Weight) Classification Report (Test Data)\n",
      "              precision    recall  f1-score   support\n",
      "\n",
      "           0       0.42      0.54      0.47      3526\n",
      "           1       0.86      0.80      0.83     12837\n",
      "\n",
      "    accuracy                           0.74     16363\n",
      "   macro avg       0.64      0.67      0.65     16363\n",
      "weighted avg       0.77      0.74      0.75     16363\n",
      "\n",
      "Macro Precision: 0.64\n",
      "Macro Recall: 0.67\n",
      "Macro F1-score: 0.65\n"
     ]
    },
    {
     "data": {
      "image/png": "[encoded data removed]",
      "text/plain": [
       "<Figure size 640x480 with 2 Axes>"
      ]
     },
     "metadata": {},
     "output_type": "display_data"
    }
   ],
   "source": [
    "# Confusion Matrix for Random Forest model\n",
    "print(\"Random Forest (Class Weight) Confusion Matrix\")\n",
    "CM.from_predictions(Y_test, predict_rf_class_weight)\n",
    "\n",
    "# Classification Report for Random Forest model\n",
    "print(\"Random Forest (Class Weight) Classification Report (Test Data)\")\n",
    "print(classification_report(Y_test, predict_rf_class_weight))\n",
    "\n",
    "#%% Calculate and print precision, recall, and F1-score (Macro)\n",
    "precision, recall, f1_score, _ = precision_recall_fscore_support(Y_test, predict_rf_class_weight, average='macro')\n",
    "print(f\"Macro Precision: {precision:.2f}\")\n",
    "print(f\"Macro Recall: {recall:.2f}\")\n",
    "print(f\"Macro F1-score: {f1_score:.2f}\")"
   ]
  }
 ],
 "metadata": {
  "colab": {
   "provenance": []
  },
  "kernelspec": {
   "display_name": "Python 3 (ipykernel)",
   "language": "python",
   "name": "python3"
  },
  "language_info": {
   "codemirror_mode": {
    "name": "ipython",
    "version": 3
   },
   "file_extension": ".py",
   "mimetype": "text/x-python",
   "name": "python",
   "nbconvert_exporter": "python",
   "pygments_lexer": "ipython3",
   "version": "3.11.10"
  }
 },
 "nbformat": 4,
 "nbformat_minor": 4
}
