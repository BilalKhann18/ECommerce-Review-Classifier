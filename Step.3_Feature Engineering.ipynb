{
 "cells": [
  {
   "cell_type": "markdown",
   "metadata": {
    "id": "i3BnEeZJ2vMe"
   },
   "source": [
    "# Step.3 Feature Engineering:"
   ]
  },
  {
   "cell_type": "markdown",
   "metadata": {
    "id": "XbJJoU9222tv"
   },
   "source": [
    "**3.1 Import neccessary libraries**"
   ]
  },
  {
   "cell_type": "code",
   "execution_count": 3,
   "metadata": {
    "id": "oWqRv74X2dln"
   },
   "outputs": [],
   "source": [
    "import pandas as pd\n",
    "from geopy.distance import geodesic"
   ]
  },
  {
   "cell_type": "markdown",
   "metadata": {
    "id": "ZIUqPj1K2uHL"
   },
   "source": [
    "**3.2 Read the dataset:**  \n",
    "\n",
    "The dataset here will be the same one cleaned in the previous data cleaning and understanding step, where errors were addressed, missing values were handled, and inconsistencies were resolved."
   ]
  },
  {
   "cell_type": "code",
   "execution_count": 5,
   "metadata": {
    "id": "usZRT4g34aTy"
   },
   "outputs": [],
   "source": [
    "df = pd.read_csv(\"datasetfinal2.0.csv\")"
   ]
  },
  {
   "cell_type": "markdown",
   "metadata": {
    "id": "Z47aY1F44lqF"
   },
   "source": [
    "**3.3 Date Conversion**"
   ]
  },
  {
   "cell_type": "code",
   "execution_count": 7,
   "metadata": {
    "id": "JrgCri3M4mRO"
   },
   "outputs": [],
   "source": [
    "# Format Conversion\n",
    "# List of date columns\n",
    "date_columns = [\n",
    "    'order_purchase_timestamp',\n",
    "    'order_approved_at',\n",
    "    'order_delivered_carrier_date',\n",
    "    'order_delivered_customer_date',\n",
    "    'order_estimated_delivery_date',\n",
    "    'shipping_limit_date'\n",
    "]\n",
    "df[date_columns] = df[date_columns].apply(pd.to_datetime, errors='coerce')"
   ]
  },
  {
   "cell_type": "markdown",
   "metadata": {
    "id": "Im6D1AY-42IQ"
   },
   "source": [
    "**3.4 Addition of features**"
   ]
  },
  {
   "cell_type": "markdown",
   "metadata": {
    "id": "hjodwIV345sW"
   },
   "source": [
    "**1. Approved Time:**  \n",
    "\n",
    "Approved time is the difference between the approval date and the purchase date."
   ]
  },
  {
   "cell_type": "code",
   "execution_count": 10,
   "metadata": {
    "id": "5Bo2tfrP5BV1"
   },
   "outputs": [],
   "source": [
    "# Approved time( Approve date - Purchase date )\n",
    "df['approve_time'] = (df['order_approved_at'] - df['order_purchase_timestamp']).dt.days"
   ]
  },
  {
   "cell_type": "markdown",
   "metadata": {
    "id": "PWiw8QtZ5QzS"
   },
   "source": [
    "**2. Seller's shipping time**\n",
    "\n",
    "Seller's shipping time is the difference between the shipping limit date and the order approval date"
   ]
  },
  {
   "cell_type": "code",
   "execution_count": 12,
   "metadata": {
    "id": "cDT8zXjy5a8G"
   },
   "outputs": [],
   "source": [
    "# Seller's shipping time (shipping_limit_date - order approve date )\n",
    "df['seller_shipping_time'] = (df['shipping_limit_date'] - df['order_approved_at']).dt.days"
   ]
  },
  {
   "cell_type": "markdown",
   "metadata": {
    "id": "QMRB-cYe5ffS"
   },
   "source": [
    "**3. Logistics Time**\n",
    "\n",
    "Logistics time is the difference between the order delivery date and the shipping limit date."
   ]
  },
  {
   "cell_type": "code",
   "execution_count": 14,
   "metadata": {
    "id": "K5jpkIw85kEi"
   },
   "outputs": [],
   "source": [
    "# Logistics Time (order_delivered - shipping_limit_date)\n",
    "df['logistics_time'] = (df['order_delivered_customer_date'] - df['shipping_limit_date']).dt.days"
   ]
  },
  {
   "cell_type": "markdown",
   "metadata": {
    "id": "RDFmtRDD5ndE"
   },
   "source": [
    "**4. Waiting time**\n",
    "\n",
    "Waiting time is the difference between the customer delivery date and the purchase date."
   ]
  },
  {
   "cell_type": "code",
   "execution_count": 16,
   "metadata": {
    "id": "xQTkgIkt50qU"
   },
   "outputs": [],
   "source": [
    "# Waiting time (Customer delivery date - Purchase date)\n",
    "df['total_waiting_time'] = (df['order_delivered_customer_date'] - df['order_purchase_timestamp']).dt.days"
   ]
  },
  {
   "cell_type": "markdown",
   "metadata": {
    "id": "wY3efcz76CQC"
   },
   "source": [
    "**5. Late or early arrival time**\n",
    "\n",
    "Late or early arrival time is the difference between the estimated delivery date and the actual delivery date. A positive value (>= 0) indicates an early arrival, while a negative value (< 0) indicates a late arrival."
   ]
  },
  {
   "cell_type": "code",
   "execution_count": 18,
   "metadata": {
    "id": "CE2bmqe06KYh"
   },
   "outputs": [],
   "source": [
    "# Late or early arrival time (estimated delivery date - actual delivery date), >=0,early;<0,late\n",
    "df['late_early_arrival_time'] = (df['order_estimated_delivery_date'] - df['order_delivered_customer_date']).dt.days"
   ]
  },
  {
   "cell_type": "markdown",
   "metadata": {
    "id": "zo_gHvvk6UU0"
   },
   "source": [
    "**6. Estimated delivery time**\n",
    "\n",
    "Estimated delivery time is the difference between the estimated delivery date and the order approval date."
   ]
  },
  {
   "cell_type": "code",
   "execution_count": 20,
   "metadata": {
    "id": "OYDxZGrz6acm"
   },
   "outputs": [],
   "source": [
    "# Estimated delivery time ( estimated delivery date - order approve date  )\n",
    "df['estimated_delivery_time'] = (df['order_estimated_delivery_date'] - df['order_approved_at']).dt.days"
   ]
  },
  {
   "cell_type": "markdown",
   "metadata": {
    "id": "DN5y6E1x60YV"
   },
   "source": [
    "**7.Actual delivery time:**\n",
    "\n",
    "Actual delivery time is the difference between the customer delivery date and the order approval date."
   ]
  },
  {
   "cell_type": "code",
   "execution_count": 22,
   "metadata": {
    "id": "cSH3hgZw6-Wb"
   },
   "outputs": [],
   "source": [
    "# Actual delivery time ( Customer delivery date - order approve date )\n",
    "df['actual_delivery_time'] = (df['order_delivered_customer_date'] - df['order_approved_at']).dt.days"
   ]
  },
  {
   "cell_type": "markdown",
   "metadata": {
    "id": "fk3_yHLG7Bdu"
   },
   "source": [
    "**8. Delivery accuracy:**\n",
    "\n",
    "The value is calculated as the ratio of 'actual_delivery_time' to 'estimated_delivery_time'."
   ]
  },
  {
   "cell_type": "code",
   "execution_count": 24,
   "metadata": {
    "id": "NUc8B3SQR9jz"
   },
   "outputs": [],
   "source": [
    "# Create the 'delivery_accuracy' column\n",
    "df['delivery_accuracy'] = df.apply(\n",
    "    lambda row: row['actual_delivery_time'] / row['estimated_delivery_time']\n",
    "    if row['estimated_delivery_time'] != 0 else float('nan'), axis=1\n",
    ")"
   ]
  },
  {
   "cell_type": "code",
   "execution_count": 25,
   "metadata": {
    "id": "iduy1orNSCQy"
   },
   "outputs": [],
   "source": [
    "# Drop the 'actual_delivery_time' and 'estimated_delivery_time' columns\n",
    "df.drop(['actual_delivery_time', 'estimated_delivery_time'], axis=1, inplace=True)"
   ]
  },
  {
   "cell_type": "markdown",
   "metadata": {
    "id": "B29bTMjGSIL0"
   },
   "source": [
    "**9. Product Seller Count:**\n",
    "\n",
    "The number of sellers for each unique product"
   ]
  },
  {
   "cell_type": "code",
   "execution_count": 27,
   "metadata": {
    "id": "TH0KV8aoSJVw"
   },
   "outputs": [],
   "source": [
    "# Number of sellers for each product_id\n",
    "product_id = df.groupby('product_id').count()['seller_id'].index\n",
    "seller_count = df.groupby('product_id').count()['seller_id'].values\n",
    "product_seller_count = pd.DataFrame({'product_id':product_id,'sellers_count':seller_count})\n",
    "df = pd.merge(df,product_seller_count,on='product_id')"
   ]
  },
  {
   "cell_type": "markdown",
   "metadata": {
    "id": "mj9tEHnzSdLl"
   },
   "source": [
    "**10. Order Items Count:**\n",
    "\n",
    "The number of products that are ordered as a part of one single order."
   ]
  },
  {
   "cell_type": "code",
   "execution_count": 29,
   "metadata": {
    "id": "HnF5g57uSdiq"
   },
   "outputs": [],
   "source": [
    "# Number of products ordered in each order as a feature\n",
    "order_id = df.groupby('order_id').count()['product_id'].index\n",
    "pd_count = df.groupby('order_id').count()['product_id'].values\n",
    "order_items_count = pd.DataFrame({'order_id':order_id,'products_in_order_count':pd_count})\n",
    "df = pd.merge(df,order_items_count,on='order_id')"
   ]
  },
  {
   "cell_type": "markdown",
   "metadata": {
    "id": "bLiTtsNwS1Jx"
   },
   "source": [
    "**11. Total Orders:**\n",
    "\n",
    "The total number of orders per customer and per seller"
   ]
  },
  {
   "cell_type": "code",
   "execution_count": 31,
   "metadata": {
    "id": "8NMVa403S0gj"
   },
   "outputs": [],
   "source": [
    "# Total orders per customer\n",
    "df['total_orders_per_customer'] = df.groupby('customer_unique_id')['order_id'].transform('count')\n",
    "# Total orders per seller\n",
    "df['total_orders_per_seller'] = df.groupby('seller_id')['order_id'].transform('count')"
   ]
  },
  {
   "cell_type": "markdown",
   "metadata": {
    "id": "q3bKhKEyTC2F"
   },
   "source": [
    "**12. Purchase day:**\n",
    "\n",
    "When was the product purchased and wether it was weekend or not, which can help us if day of purchase may affect review score."
   ]
  },
  {
   "cell_type": "code",
   "execution_count": 33,
   "metadata": {
    "id": "M9cI0YEDTDSS"
   },
   "outputs": [],
   "source": [
    "# Purchase day feature\n",
    "df['purchase_month'] = df['order_purchase_timestamp'].dt.month\n",
    "df['is_weekend'] = df['order_purchase_timestamp'].apply(lambda x: 1 if x.weekday() >= 5 else 0)"
   ]
  },
  {
   "cell_type": "markdown",
   "metadata": {
    "id": "ltPQGZW4TmMw"
   },
   "source": [
    "**13. Order-Freight ratio**\n",
    "\n",
    "To know if customers paying more freight value when the order is samll, will have an impact on review score."
   ]
  },
  {
   "cell_type": "code",
   "execution_count": 35,
   "metadata": {
    "id": "rozes1tXTm7R"
   },
   "outputs": [],
   "source": [
    "# Creating feature for order freight ratio\n",
    "df['order_freight_ratio'] = df['freight_value']/df['payment_value']"
   ]
  },
  {
   "cell_type": "markdown",
   "metadata": {
    "id": "tmcTqBtCT9C-"
   },
   "source": [
    "**14. On time Delivery:**\n",
    "\n",
    "Wether the order was delivered on time or not."
   ]
  },
  {
   "cell_type": "code",
   "execution_count": 37,
   "metadata": {
    "id": "Nc5bsL0uT9cT"
   },
   "outputs": [],
   "source": [
    "# Creating feature if delivery was late\n",
    "df['on_time_delivery'] = df['order_delivered_customer_date'] < df['order_estimated_delivery_date']\n",
    "df['on_time_delivery'] = df['on_time_delivery'].astype('int')"
   ]
  },
  {
   "cell_type": "markdown",
   "metadata": {
    "id": "XsQqULaFUUI4"
   },
   "source": [
    "**15. Geolocation**\n",
    "\n",
    "The distance between the customer and seller, if the seller and customer are from the same state or not and if they are from the same city or not, because it might lead to faster delivery which may affect the review score in a positive way."
   ]
  },
  {
   "cell_type": "code",
   "execution_count": 39,
   "metadata": {
    "id": "khUc8HDJUUgm"
   },
   "outputs": [],
   "source": [
    "# Geolocation features\n",
    "# Use geopy to calculate the distance and add a new column\n",
    "df['distance_km'] = df.apply(lambda row: geodesic((row['customer_lat'], row['customer_lng']), (row['seller_lat'], row['seller_lng'])).kilometers, axis=1)\n",
    "df['same_state'] = (df['customer_state'] == df['seller_state']).astype(int)\n",
    "df['same_city'] = (df['customer_city'] == df['seller_city']).astype(int)"
   ]
  },
  {
   "cell_type": "markdown",
   "metadata": {
    "id": "DMqGXlGXUyzu"
   },
   "source": [
    "## Finalising the features"
   ]
  },
  {
   "cell_type": "code",
   "execution_count": 41,
   "metadata": {
    "id": "wPCzBAmGUzL7"
   },
   "outputs": [],
   "source": [
    "# Drop the columns that will not used to feed the model\n",
    "columns_to_drop = ['review_id',\n",
    "                   'order_id',\n",
    "                   'order_purchase_timestamp',\n",
    "                   'order_approved_at',\n",
    "                   'order_delivered_carrier_date',\n",
    "                   'order_delivered_customer_date',\n",
    "                   'order_estimated_delivery_date',\n",
    "                   'customer_unique_id',\n",
    "                   'customer_state',\n",
    "                   'customer_city',\n",
    "                   'customer_lat',\n",
    "                   'customer_lng',\n",
    "                   'product_id',\n",
    "                   'seller_id',\n",
    "                   'shipping_limit_date',\n",
    "                   'seller_city',\n",
    "                   'seller_state',\n",
    "                   'seller_lat',\n",
    "                   'seller_lng']\n",
    "df_featuring = df.drop(columns=columns_to_drop, axis=1)\n",
    "\n",
    "# Drop the NAs if any\n",
    "df_featuring = df_featuring.dropna()"
   ]
  },
  {
   "cell_type": "code",
   "execution_count": 42,
   "metadata": {},
   "outputs": [],
   "source": [
    "# Save the file as CSV to be used in modelling\n",
    "df_featuring.to_csv('Feature.csv', index=False)"
   ]
  }
 ],
 "metadata": {
  "colab": {
   "provenance": []
  },
  "kernelspec": {
   "display_name": "Python 3 (ipykernel)",
   "language": "python",
   "name": "python3"
  },
  "language_info": {
   "codemirror_mode": {
    "name": "ipython",
    "version": 3
   },
   "file_extension": ".py",
   "mimetype": "text/x-python",
   "name": "python",
   "nbconvert_exporter": "python",
   "pygments_lexer": "ipython3",
   "version": "3.11.10"
  }
 },
 "nbformat": 4,
 "nbformat_minor": 4
}
