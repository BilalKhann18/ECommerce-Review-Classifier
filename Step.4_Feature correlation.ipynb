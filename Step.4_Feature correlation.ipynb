{
 "cells": [
  {
   "cell_type": "markdown",
   "id": "6c254978-34fd-42f7-aa80-1b3e139e2d71",
   "metadata": {},
   "source": [
    "# Step.4 Feature Correlation:"
   ]
  },
  {
   "cell_type": "markdown",
   "id": "2dba1e15-24ac-4513-aaff-7944fd7bf48a",
   "metadata": {},
   "source": [
    "**4.1 Import neccessary libraries** "
   ]
  },
  {
   "cell_type": "code",
   "execution_count": 3,
   "id": "7c373dba-ea37-4d01-9a89-708eec314494",
   "metadata": {},
   "outputs": [],
   "source": [
    "import pandas as pd\n",
    "import numpy as np\n",
    "import seaborn as sns\n",
    "import matplotlib.pyplot as plt"
   ]
  },
  {
   "cell_type": "markdown",
   "id": "6cad4a6c-7491-4693-bb45-b6dbfa04d2f6",
   "metadata": {},
   "source": [
    "**4.2  Read the dataset** "
   ]
  },
  {
   "cell_type": "code",
   "execution_count": 5,
   "id": "e5cb05e2-2b3c-4398-995a-81b60dd253f7",
   "metadata": {},
   "outputs": [
    {
     "data": {
      "text/plain": [
       "review_score                 0\n",
       "is_review                    0\n",
       "price                        0\n",
       "freight_value                0\n",
       "payment_value                0\n",
       "product_photos_qty           0\n",
       "approve_time                 0\n",
       "seller_shipping_time         0\n",
       "logistics_time               0\n",
       "total_waiting_time           0\n",
       "late_early_arrival_time      0\n",
       "delivery_accuracy            0\n",
       "sellers_count                0\n",
       "products_in_order_count      0\n",
       "total_orders_per_customer    0\n",
       "total_orders_per_seller      0\n",
       "purchase_month               0\n",
       "is_weekend                   0\n",
       "order_freight_ratio          0\n",
       "on_time_delivery             0\n",
       "distance_km                  0\n",
       "same_state                   0\n",
       "same_city                    0\n",
       "dtype: int64"
      ]
     },
     "execution_count": 5,
     "metadata": {},
     "output_type": "execute_result"
    }
   ],
   "source": [
    "df = pd.read_csv(\"Feature.csv\")\n",
    "df.dtypes\n",
    "\n",
    "#Exclude columns of type 'object'.\n",
    "drop_colmns = ['payment_types', 'order_status', 'product_category_name']\n",
    "df = df.drop(drop_colmns, axis=1)\n",
    "\n",
    "#Convert the five-point scale to binary: 1 for high score group and 0 for low score group.\n",
    "df['review_score'] = df['review_score'].apply(lambda x: 1 if x >= 4 else 0)\n",
    "\n",
    "df.isnull().sum()"
   ]
  },
  {
   "cell_type": "markdown",
   "id": "68e5e26e-c7a4-4f6e-ad95-aee663eca878",
   "metadata": {},
   "source": [
    "**4.3 Correlation between features and review scores, as well as inter-feature correlation** "
   ]
  },
  {
   "cell_type": "code",
   "execution_count": 7,
   "id": "e86f57e6-8e55-4d25-bbed-b84141106b86",
   "metadata": {},
   "outputs": [],
   "source": [
    "# Calculate the correlation matrix\n",
    "corr_matrix = df.corr()\n",
    "np.fill_diagonal(corr_matrix.values, np.nan)\n",
    "# Get the correlation coefficients for the target variable 'review_score'\n",
    "review_corr = corr_matrix['review_score']"
   ]
  },
  {
   "cell_type": "markdown",
   "id": "f8b7e454-497c-423e-844d-3d2af1343073",
   "metadata": {},
   "source": [
    "**4.3.1 Positive correlations**"
   ]
  },
  {
   "cell_type": "code",
   "execution_count": 9,
   "id": "69586a1c-5bfb-43ca-9259-1149cf6b2e80",
   "metadata": {},
   "outputs": [
    {
     "name": "stdout",
     "output_type": "stream",
     "text": [
      "Variables with positive correlation:\n",
      "on_time_delivery             0.322206\n",
      "late_early_arrival_time      0.237680\n",
      "same_state                   0.056598\n",
      "purchase_month               0.028902\n",
      "same_city                    0.025441\n",
      "product_photos_qty           0.013694\n",
      "order_freight_ratio          0.012324\n",
      "total_orders_per_customer    0.003239\n",
      "price                        0.002554\n",
      "Name: review_score, dtype: float64\n"
     ]
    }
   ],
   "source": [
    "print(\"Variables with positive correlation:\")\n",
    "print(review_corr[review_corr > 0].sort_values(ascending=False))"
   ]
  },
  {
   "cell_type": "markdown",
   "id": "07b8e05d-27b9-40c3-b54c-93481e0baafd",
   "metadata": {},
   "source": [
    "**4.3.2 Negative correlations**"
   ]
  },
  {
   "cell_type": "code",
   "execution_count": 11,
   "id": "da1392b2-c1ed-47d9-af4d-e40e8834d133",
   "metadata": {},
   "outputs": [
    {
     "name": "stdout",
     "output_type": "stream",
     "text": [
      "Variables with negative correlation:\n",
      "total_waiting_time        -0.296597\n",
      "delivery_accuracy         -0.289144\n",
      "logistics_time            -0.265425\n",
      "is_review                 -0.240210\n",
      "distance_km               -0.049640\n",
      "total_orders_per_seller   -0.032055\n",
      "freight_value             -0.031648\n",
      "payment_value             -0.030855\n",
      "seller_shipping_time      -0.023694\n",
      "approve_time              -0.021186\n",
      "products_in_order_count   -0.010225\n",
      "sellers_count             -0.004336\n",
      "is_weekend                -0.002735\n",
      "Name: review_score, dtype: float64\n"
     ]
    }
   ],
   "source": [
    "print(\"Variables with negative correlation:\")\n",
    "print(review_corr[review_corr < 0].sort_values())"
   ]
  },
  {
   "cell_type": "markdown",
   "id": "8159bbb4-cd2a-41af-a27b-0dc327dfc87b",
   "metadata": {},
   "source": [
    "**4.3.3 Select the top 5 variables with the strongest correlations (absolute values):**"
   ]
  },
  {
   "cell_type": "code",
   "execution_count": 13,
   "id": "1e99c796-ee66-4af0-82f7-de46558e4702",
   "metadata": {},
   "outputs": [
    {
     "name": "stdout",
     "output_type": "stream",
     "text": [
      "Top variables with the strongest correlations (absolute values):\n",
      "on_time_delivery           0.322206\n",
      "total_waiting_time         0.296597\n",
      "delivery_accuracy          0.289144\n",
      "logistics_time             0.265425\n",
      "is_review                  0.240210\n",
      "late_early_arrival_time    0.237680\n",
      "same_state                 0.056598\n",
      "distance_km                0.049640\n",
      "total_orders_per_seller    0.032055\n",
      "freight_value              0.031648\n",
      "payment_value              0.030855\n",
      "Name: review_score, dtype: float64\n"
     ]
    }
   ],
   "source": [
    "top_features = review_corr.abs().sort_values(ascending=False).head(11)\n",
    "print(\"Top variables with the strongest correlations (absolute values):\")\n",
    "print(top_features)"
   ]
  },
  {
   "cell_type": "markdown",
   "id": "bbf64332-57d0-48cd-ae8f-476ffe51d01c",
   "metadata": {},
   "source": [
    "**4.3.4 Identify highly correlated features (correlation greater than 0.9 or less than -0.9).**"
   ]
  },
  {
   "cell_type": "code",
   "execution_count": 18,
   "id": "bcafd5b8-647c-445b-8714-305ef8bfc0ef",
   "metadata": {},
   "outputs": [
    {
     "name": "stdout",
     "output_type": "stream",
     "text": [
      "Highly correlated features:\n",
      "[('price', 'payment_value'), ('payment_value', 'price')]\n"
     ]
    }
   ],
   "source": [
    "highly_correlated_features = corr_matrix[(corr_matrix > 0.9) | (corr_matrix < -0.9)].stack().index.tolist()\n",
    "print(\"Highly correlated features:\")\n",
    "print(highly_correlated_features)"
   ]
  },
  {
   "cell_type": "code",
   "execution_count": null,
   "id": "7a317538-9aec-47e5-86f5-2c67013d83cb",
   "metadata": {},
   "outputs": [],
   "source": []
  }
 ],
 "metadata": {
  "kernelspec": {
   "display_name": "Python 3 (ipykernel)",
   "language": "python",
   "name": "python3"
  },
  "language_info": {
   "codemirror_mode": {
    "name": "ipython",
    "version": 3
   },
   "file_extension": ".py",
   "mimetype": "text/x-python",
   "name": "python",
   "nbconvert_exporter": "python",
   "pygments_lexer": "ipython3",
   "version": "3.11.10"
  }
 },
 "nbformat": 4,
 "nbformat_minor": 5
}
